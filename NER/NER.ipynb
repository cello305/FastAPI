{
 "cells": [
  {
   "cell_type": "code",
   "execution_count": null,
   "metadata": {},
   "outputs": [],
   "source": [
    "from bs4 import BeautifulSoup\n",
    "import requests\n",
    "import re\n",
    "import spacy\n",
    "from spacy import displacy\n",
    "NER = spacy.load(\"en_core_web_sm\")\n",
    "\n",
    "URL=\"https://www.zeebiz.com/markets/currency/news-cryptocurrency-news-today-june-12-bitcoin-dogecoin-shiba-inu-and-other-top-coins-prices-and-all-latest-updates-158490\"\n",
    "html_content = requests.get(URL).text\n",
    "soup = BeautifulSoup(html_content, \"html.parser\")\n",
    "\n",
    "body=soup.body.text\n",
    "body= body.replace('n', ' ')\n",
    "body= body.replace('t', ' ')\n",
    "body= body.replace('r', ' ')\n",
    "body= body.replace('xa0', ' ')\n",
    "body=re.sub(r'[^ws]', '', body)\n",
    "\n",
    "doc= NER(body)\n",
    "displacy.render(doc,style=\"ent\",jupyter=True)"
   ]
  }
 ],
 "metadata": {
  "kernelspec": {
   "display_name": "Python 3",
   "language": "python",
   "name": "python3"
  },
  "language_info": {
   "codemirror_mode": {
    "name": "ipython",
    "version": 3
   },
   "file_extension": ".py",
   "mimetype": "text/x-python",
   "name": "python",
   "nbconvert_exporter": "python",
   "pygments_lexer": "ipython3",
   "version": "3.12.3"
  }
 },
 "nbformat": 4,
 "nbformat_minor": 2
}
